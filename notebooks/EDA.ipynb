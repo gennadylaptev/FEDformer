{
 "cells": [
  {
   "cell_type": "code",
   "execution_count": 54,
   "id": "6351becd-afa9-407e-9a2a-917a55da9a29",
   "metadata": {},
   "outputs": [],
   "source": [
    "import os\n",
    "import os.path as osp\n",
    "import sys\n",
    "\n",
    "import pandas as pd"
   ]
  },
  {
   "cell_type": "code",
   "execution_count": 2,
   "id": "a77c66f3-edbf-4b1d-80de-0759fda5f2cd",
   "metadata": {},
   "outputs": [],
   "source": [
    "ett_h1 = pd.read_csv('../dataset/ETT-small/ETTh1.csv')"
   ]
  },
  {
   "cell_type": "code",
   "execution_count": 3,
   "id": "5b0c14a7-11f7-4d7e-a3fd-6f1e747c6a78",
   "metadata": {},
   "outputs": [],
   "source": [
    "ett_h2 = pd.read_csv('../dataset/ETT-small/ETTh2.csv')"
   ]
  },
  {
   "cell_type": "code",
   "execution_count": 53,
   "id": "9454f755-f888-4cf7-aa1a-e431f6b8a067",
   "metadata": {},
   "outputs": [
    {
     "data": {
      "text/html": [
       "<div>\n",
       "<style scoped>\n",
       "    .dataframe tbody tr th:only-of-type {\n",
       "        vertical-align: middle;\n",
       "    }\n",
       "\n",
       "    .dataframe tbody tr th {\n",
       "        vertical-align: top;\n",
       "    }\n",
       "\n",
       "    .dataframe thead th {\n",
       "        text-align: right;\n",
       "    }\n",
       "</style>\n",
       "<table border=\"1\" class=\"dataframe\">\n",
       "  <thead>\n",
       "    <tr style=\"text-align: right;\">\n",
       "      <th></th>\n",
       "      <th>date</th>\n",
       "      <th>HUFL</th>\n",
       "      <th>HULL</th>\n",
       "      <th>MUFL</th>\n",
       "      <th>MULL</th>\n",
       "      <th>LUFL</th>\n",
       "      <th>LULL</th>\n",
       "      <th>OT</th>\n",
       "    </tr>\n",
       "  </thead>\n",
       "  <tbody>\n",
       "    <tr>\n",
       "      <th>0</th>\n",
       "      <td>2016-07-01 00:00:00</td>\n",
       "      <td>5.827</td>\n",
       "      <td>2.009</td>\n",
       "      <td>1.599</td>\n",
       "      <td>0.462</td>\n",
       "      <td>4.203</td>\n",
       "      <td>1.340</td>\n",
       "      <td>30.531000</td>\n",
       "    </tr>\n",
       "    <tr>\n",
       "      <th>1</th>\n",
       "      <td>2016-07-01 01:00:00</td>\n",
       "      <td>5.693</td>\n",
       "      <td>2.076</td>\n",
       "      <td>1.492</td>\n",
       "      <td>0.426</td>\n",
       "      <td>4.142</td>\n",
       "      <td>1.371</td>\n",
       "      <td>27.787001</td>\n",
       "    </tr>\n",
       "    <tr>\n",
       "      <th>2</th>\n",
       "      <td>2016-07-01 02:00:00</td>\n",
       "      <td>5.157</td>\n",
       "      <td>1.741</td>\n",
       "      <td>1.279</td>\n",
       "      <td>0.355</td>\n",
       "      <td>3.777</td>\n",
       "      <td>1.218</td>\n",
       "      <td>27.787001</td>\n",
       "    </tr>\n",
       "  </tbody>\n",
       "</table>\n",
       "</div>"
      ],
      "text/plain": [
       "                  date   HUFL   HULL   MUFL   MULL   LUFL   LULL         OT\n",
       "0  2016-07-01 00:00:00  5.827  2.009  1.599  0.462  4.203  1.340  30.531000\n",
       "1  2016-07-01 01:00:00  5.693  2.076  1.492  0.426  4.142  1.371  27.787001\n",
       "2  2016-07-01 02:00:00  5.157  1.741  1.279  0.355  3.777  1.218  27.787001"
      ]
     },
     "execution_count": 53,
     "metadata": {},
     "output_type": "execute_result"
    }
   ],
   "source": [
    "ett_h1.head(3)"
   ]
  },
  {
   "cell_type": "code",
   "execution_count": 24,
   "id": "fe21fb73-a0f5-4d50-8bb2-17da134be2b5",
   "metadata": {},
   "outputs": [
    {
     "data": {
      "text/plain": [
       "'/home/gl/Code/papers/FEDformer/notebooks'"
      ]
     },
     "execution_count": 24,
     "metadata": {},
     "output_type": "execute_result"
    }
   ],
   "source": [
    "os.getcwd()"
   ]
  },
  {
   "cell_type": "code",
   "execution_count": 25,
   "id": "f1f1cc83-9c43-4f63-815a-89f35b1198bf",
   "metadata": {},
   "outputs": [],
   "source": [
    "sys.path.append('/home/gl/Code/papers/FEDformer/')"
   ]
  },
  {
   "cell_type": "code",
   "execution_count": 26,
   "id": "5c96224f-5248-4a14-aabb-c1c3547e0b28",
   "metadata": {},
   "outputs": [],
   "source": [
    "from data_provider.data_factory import Dataset_ETT_hour"
   ]
  },
  {
   "cell_type": "code",
   "execution_count": 41,
   "id": "09ef47de-0f15-4e2f-b27e-5f6026f0ff77",
   "metadata": {},
   "outputs": [
    {
     "name": "stderr",
     "output_type": "stream",
     "text": [
      "/home/gl/Code/papers/FEDformer/data_provider/data_loader.py:103: FutureWarning: In a future version of pandas all arguments of DataFrame.drop except for the argument 'labels' will be keyword-only.\n",
      "  data_stamp = df_stamp.drop([\"date\"], 1).values\n"
     ]
    }
   ],
   "source": [
    "ds = Dataset_ETT_hour('/home/gl/Code/papers/FEDformer/dataset/ETT-small/', features='M', scale=False, freq='h')"
   ]
  },
  {
   "cell_type": "code",
   "execution_count": 52,
   "id": "c885c7d3-9864-409e-ae25-b5ead819770a",
   "metadata": {},
   "outputs": [
    {
     "data": {
      "text/plain": [
       "date    2016-07-01 00:00:00\n",
       "HUFL                  5.827\n",
       "HULL                  2.009\n",
       "MUFL                  1.599\n",
       "MULL                  0.462\n",
       "LUFL                  4.203\n",
       "LULL                   1.34\n",
       "OT                   30.531\n",
       "Name: 0, dtype: object"
      ]
     },
     "execution_count": 52,
     "metadata": {},
     "output_type": "execute_result"
    }
   ],
   "source": [
    "ett_h1.iloc[0]"
   ]
  },
  {
   "cell_type": "code",
   "execution_count": 47,
   "id": "1c2f9a9d-6795-43f7-8bcc-9584202a585b",
   "metadata": {},
   "outputs": [
    {
     "data": {
      "text/plain": [
       "array([[ 7,  1,  4,  0],\n",
       "       [ 7,  1,  4,  1],\n",
       "       [ 7,  1,  4,  2],\n",
       "       ...,\n",
       "       [ 6, 25,  6, 21],\n",
       "       [ 6, 25,  6, 22],\n",
       "       [ 6, 25,  6, 23]])"
      ]
     },
     "execution_count": 47,
     "metadata": {},
     "output_type": "execute_result"
    }
   ],
   "source": [
    "ds.data_stamp\n",
    "# month, day, weekday, hour"
   ]
  },
  {
   "cell_type": "code",
   "execution_count": 34,
   "id": "b472bee4-9bcc-4e25-8f8e-79a4a425d524",
   "metadata": {},
   "outputs": [],
   "source": [
    "seq_x, seq_y, seq_x_mark, seq_y_mark = ds[0]"
   ]
  }
 ],
 "metadata": {
  "kernelspec": {
   "display_name": "neurograph",
   "language": "python",
   "name": "neurograph"
  },
  "language_info": {
   "codemirror_mode": {
    "name": "ipython",
    "version": 3
   },
   "file_extension": ".py",
   "mimetype": "text/x-python",
   "name": "python",
   "nbconvert_exporter": "python",
   "pygments_lexer": "ipython3",
   "version": "3.10.9"
  }
 },
 "nbformat": 4,
 "nbformat_minor": 5
}
